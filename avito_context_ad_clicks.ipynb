{
  "nbformat": 4,
  "nbformat_minor": 0,
  "metadata": {
    "colab": {
      "provenance": [],
      "authorship_tag": "ABX9TyOxSgDn9ULsOSLfWAKQznuN",
      "include_colab_link": true
    },
    "kernelspec": {
      "name": "python3",
      "display_name": "Python 3"
    },
    "language_info": {
      "name": "python"
    }
  },
  "cells": [
    {
      "cell_type": "markdown",
      "metadata": {
        "id": "view-in-github",
        "colab_type": "text"
      },
      "source": [
        "<a href=\"https://colab.research.google.com/github/AnantChandra/google-colab/blob/main/avito_context_ad_clicks.ipynb\" target=\"_parent\"><img src=\"https://colab.research.google.com/assets/colab-badge.svg\" alt=\"Open In Colab\"/></a>"
      ]
    },
    {
      "cell_type": "code",
      "source": [
        "!pip install relbench"
      ],
      "metadata": {
        "colab": {
          "base_uri": "https://localhost:8080/"
        },
        "id": "WjVZBoH8JwPI",
        "outputId": "8caad81e-7683-4add-cc62-a0682ce80119"
      },
      "execution_count": 1,
      "outputs": [
        {
          "output_type": "stream",
          "name": "stdout",
          "text": [
            "Collecting relbench\n",
            "  Downloading relbench-1.1.0-py3-none-any.whl.metadata (12 kB)\n",
            "Requirement already satisfied: pandas in /usr/local/lib/python3.10/dist-packages (from relbench) (2.2.2)\n",
            "Requirement already satisfied: pooch in /usr/local/lib/python3.10/dist-packages (from relbench) (1.8.2)\n",
            "Requirement already satisfied: pyarrow in /usr/local/lib/python3.10/dist-packages (from relbench) (17.0.0)\n",
            "Requirement already satisfied: numpy in /usr/local/lib/python3.10/dist-packages (from relbench) (1.26.4)\n",
            "Requirement already satisfied: duckdb in /usr/local/lib/python3.10/dist-packages (from relbench) (1.1.3)\n",
            "Requirement already satisfied: scikit-learn in /usr/local/lib/python3.10/dist-packages (from relbench) (1.5.2)\n",
            "Requirement already satisfied: typing-extensions in /usr/local/lib/python3.10/dist-packages (from relbench) (4.12.2)\n",
            "Requirement already satisfied: python-dateutil>=2.8.2 in /usr/local/lib/python3.10/dist-packages (from pandas->relbench) (2.8.2)\n",
            "Requirement already satisfied: pytz>=2020.1 in /usr/local/lib/python3.10/dist-packages (from pandas->relbench) (2024.2)\n",
            "Requirement already satisfied: tzdata>=2022.7 in /usr/local/lib/python3.10/dist-packages (from pandas->relbench) (2024.2)\n",
            "Requirement already satisfied: platformdirs>=2.5.0 in /usr/local/lib/python3.10/dist-packages (from pooch->relbench) (4.3.6)\n",
            "Requirement already satisfied: packaging>=20.0 in /usr/local/lib/python3.10/dist-packages (from pooch->relbench) (24.2)\n",
            "Requirement already satisfied: requests>=2.19.0 in /usr/local/lib/python3.10/dist-packages (from pooch->relbench) (2.32.3)\n",
            "Requirement already satisfied: scipy>=1.6.0 in /usr/local/lib/python3.10/dist-packages (from scikit-learn->relbench) (1.13.1)\n",
            "Requirement already satisfied: joblib>=1.2.0 in /usr/local/lib/python3.10/dist-packages (from scikit-learn->relbench) (1.4.2)\n",
            "Requirement already satisfied: threadpoolctl>=3.1.0 in /usr/local/lib/python3.10/dist-packages (from scikit-learn->relbench) (3.5.0)\n",
            "Requirement already satisfied: six>=1.5 in /usr/local/lib/python3.10/dist-packages (from python-dateutil>=2.8.2->pandas->relbench) (1.16.0)\n",
            "Requirement already satisfied: charset-normalizer<4,>=2 in /usr/local/lib/python3.10/dist-packages (from requests>=2.19.0->pooch->relbench) (3.4.0)\n",
            "Requirement already satisfied: idna<4,>=2.5 in /usr/local/lib/python3.10/dist-packages (from requests>=2.19.0->pooch->relbench) (3.10)\n",
            "Requirement already satisfied: urllib3<3,>=1.21.1 in /usr/local/lib/python3.10/dist-packages (from requests>=2.19.0->pooch->relbench) (2.2.3)\n",
            "Requirement already satisfied: certifi>=2017.4.17 in /usr/local/lib/python3.10/dist-packages (from requests>=2.19.0->pooch->relbench) (2024.8.30)\n",
            "Downloading relbench-1.1.0-py3-none-any.whl (58 kB)\n",
            "\u001b[2K   \u001b[90m━━━━━━━━━━━━━━━━━━━━━━━━━━━━━━━━━━━━━━━━\u001b[0m \u001b[32m58.1/58.1 kB\u001b[0m \u001b[31m1.8 MB/s\u001b[0m eta \u001b[36m0:00:00\u001b[0m\n",
            "\u001b[?25hInstalling collected packages: relbench\n",
            "Successfully installed relbench-1.1.0\n"
          ]
        }
      ]
    },
    {
      "cell_type": "code",
      "source": [
        "from relbench.base import Table, Database, Dataset\n",
        "from relbench.datasets import get_dataset"
      ],
      "metadata": {
        "id": "KfgnsfazS-IN"
      },
      "execution_count": 2,
      "outputs": []
    },
    {
      "cell_type": "code",
      "source": [
        "dataset = get_dataset(\"rel-avito\", download=True)\n",
        "db = dataset.get_db()"
      ],
      "metadata": {
        "colab": {
          "base_uri": "https://localhost:8080/"
        },
        "id": "Ifb6bV0Fuzw4",
        "outputId": "01bf0b06-7d34-4a5a-af6c-28c584059959"
      },
      "execution_count": 3,
      "outputs": [
        {
          "output_type": "stream",
          "name": "stderr",
          "text": [
            "Downloading file 'rel-avito/db.zip' from 'https://relbench.stanford.edu/download/rel-avito/db.zip' to '/root/.cache/relbench'.\n",
            "100%|████████████████████████████████████████| 364M/364M [00:00<00:00, 156GB/s]\n",
            "Unzipping contents of '/root/.cache/relbench/rel-avito/db.zip' to '/root/.cache/relbench/rel-avito/.'\n"
          ]
        },
        {
          "output_type": "stream",
          "name": "stdout",
          "text": [
            "Loading Database object from /root/.cache/relbench/rel-avito/db...\n",
            "Done in 8.10 seconds.\n"
          ]
        }
      ]
    },
    {
      "cell_type": "code",
      "source": [
        "db.min_timestamp, db.max_timestamp"
      ],
      "metadata": {
        "id": "ALRP5P1jv9iJ",
        "colab": {
          "base_uri": "https://localhost:8080/"
        },
        "outputId": "b7aa3fee-4fb4-4372-c839-ee131c77e231"
      },
      "execution_count": 5,
      "outputs": [
        {
          "output_type": "execute_result",
          "data": {
            "text/plain": [
              "(Timestamp('2015-04-25 00:00:00'), Timestamp('2015-05-14 00:00:00'))"
            ]
          },
          "metadata": {},
          "execution_count": 5
        }
      ]
    },
    {
      "cell_type": "code",
      "source": [
        "db.table_dict.keys()"
      ],
      "metadata": {
        "colab": {
          "base_uri": "https://localhost:8080/"
        },
        "id": "o_fGcpuQ-k4b",
        "outputId": "8d6b9429-3a4c-4b2c-b47e-02df70443813"
      },
      "execution_count": 8,
      "outputs": [
        {
          "output_type": "execute_result",
          "data": {
            "text/plain": [
              "dict_keys(['Category', 'PhoneRequestsStream', 'Location', 'VisitStream', 'SearchStream', 'AdsInfo', 'SearchInfo', 'UserInfo'])"
            ]
          },
          "metadata": {},
          "execution_count": 8
        }
      ]
    },
    {
      "cell_type": "code",
      "source": [
        "table = db.table_dict['SearchInfo']\n",
        "table"
      ],
      "metadata": {
        "colab": {
          "base_uri": "https://localhost:8080/"
        },
        "id": "qCFv4Pxn-3M3",
        "outputId": "4fe0227b-3050-473d-e915-aa6fb08346f5"
      },
      "execution_count": 20,
      "outputs": [
        {
          "output_type": "execute_result",
          "data": {
            "text/plain": [
              "Table(df=\n",
              "         UserID  SearchID          SearchDate       IPID  IsUserLoggedOn  \\\n",
              "0          2139         0 2015-04-25 00:00:01   837134.0             1.0   \n",
              "1          1477         1 2015-04-25 00:00:02  2187370.0             0.0   \n",
              "2         68959         2 2015-04-25 00:00:02  2089629.0             1.0   \n",
              "3         58818         3 2015-04-25 00:00:03    63549.0             1.0   \n",
              "4         30136         4 2015-04-25 00:00:04  1727717.0             0.0   \n",
              "...         ...       ...                 ...        ...             ...   \n",
              "1987151   87797   1987151 2015-05-13 23:59:51  1065752.0             1.0   \n",
              "1987152   66281   1987152 2015-05-13 23:59:51  2209435.0             0.0   \n",
              "1987153   97377   1987153 2015-05-13 23:59:55  1848828.0             0.0   \n",
              "1987154   78797   1987154 2015-05-13 23:59:58   684886.0             1.0   \n",
              "1987155   10502   1987155 2015-05-13 23:59:59  2103041.0             0.0   \n",
              "\n",
              "                SearchQuery  LocationID  CategoryID  \n",
              "0                      None         497          34  \n",
              "1                      None         334          22  \n",
              "2                      None         497          60  \n",
              "3        sony playstation 4         375           0  \n",
              "4                      None         334          38  \n",
              "...                     ...         ...         ...  \n",
              "1987151                None         334          60  \n",
              "1987152                imac         497          17  \n",
              "1987153                None         190          34  \n",
              "1987154                None           1          26  \n",
              "1987155                None         497          35  \n",
              "\n",
              "[1987156 rows x 8 columns],\n",
              "  fkey_col_to_pkey_table={'UserID': 'UserInfo', 'LocationID': 'Location', 'CategoryID': 'Category'},\n",
              "  pkey_col=SearchID,\n",
              "  time_col=SearchDate)"
            ]
          },
          "metadata": {},
          "execution_count": 20
        }
      ]
    },
    {
      "cell_type": "code",
      "source": [
        "table.df"
      ],
      "metadata": {
        "colab": {
          "base_uri": "https://localhost:8080/",
          "height": 424
        },
        "id": "vZvSIiWw_EGL",
        "outputId": "c656235f-8422-43df-8377-87118b85d664"
      },
      "execution_count": 21,
      "outputs": [
        {
          "output_type": "execute_result",
          "data": {
            "text/plain": [
              "         UserID  SearchID          SearchDate       IPID  IsUserLoggedOn  \\\n",
              "0          2139         0 2015-04-25 00:00:01   837134.0             1.0   \n",
              "1          1477         1 2015-04-25 00:00:02  2187370.0             0.0   \n",
              "2         68959         2 2015-04-25 00:00:02  2089629.0             1.0   \n",
              "3         58818         3 2015-04-25 00:00:03    63549.0             1.0   \n",
              "4         30136         4 2015-04-25 00:00:04  1727717.0             0.0   \n",
              "...         ...       ...                 ...        ...             ...   \n",
              "1987151   87797   1987151 2015-05-13 23:59:51  1065752.0             1.0   \n",
              "1987152   66281   1987152 2015-05-13 23:59:51  2209435.0             0.0   \n",
              "1987153   97377   1987153 2015-05-13 23:59:55  1848828.0             0.0   \n",
              "1987154   78797   1987154 2015-05-13 23:59:58   684886.0             1.0   \n",
              "1987155   10502   1987155 2015-05-13 23:59:59  2103041.0             0.0   \n",
              "\n",
              "                SearchQuery  LocationID  CategoryID  \n",
              "0                      None         497          34  \n",
              "1                      None         334          22  \n",
              "2                      None         497          60  \n",
              "3        sony playstation 4         375           0  \n",
              "4                      None         334          38  \n",
              "...                     ...         ...         ...  \n",
              "1987151                None         334          60  \n",
              "1987152                imac         497          17  \n",
              "1987153                None         190          34  \n",
              "1987154                None           1          26  \n",
              "1987155                None         497          35  \n",
              "\n",
              "[1987156 rows x 8 columns]"
            ],
            "text/html": [
              "\n",
              "  <div id=\"df-a0e410e4-f71a-44e0-be34-5e6dbc7120e8\" class=\"colab-df-container\">\n",
              "    <div>\n",
              "<style scoped>\n",
              "    .dataframe tbody tr th:only-of-type {\n",
              "        vertical-align: middle;\n",
              "    }\n",
              "\n",
              "    .dataframe tbody tr th {\n",
              "        vertical-align: top;\n",
              "    }\n",
              "\n",
              "    .dataframe thead th {\n",
              "        text-align: right;\n",
              "    }\n",
              "</style>\n",
              "<table border=\"1\" class=\"dataframe\">\n",
              "  <thead>\n",
              "    <tr style=\"text-align: right;\">\n",
              "      <th></th>\n",
              "      <th>UserID</th>\n",
              "      <th>SearchID</th>\n",
              "      <th>SearchDate</th>\n",
              "      <th>IPID</th>\n",
              "      <th>IsUserLoggedOn</th>\n",
              "      <th>SearchQuery</th>\n",
              "      <th>LocationID</th>\n",
              "      <th>CategoryID</th>\n",
              "    </tr>\n",
              "  </thead>\n",
              "  <tbody>\n",
              "    <tr>\n",
              "      <th>0</th>\n",
              "      <td>2139</td>\n",
              "      <td>0</td>\n",
              "      <td>2015-04-25 00:00:01</td>\n",
              "      <td>837134.0</td>\n",
              "      <td>1.0</td>\n",
              "      <td>None</td>\n",
              "      <td>497</td>\n",
              "      <td>34</td>\n",
              "    </tr>\n",
              "    <tr>\n",
              "      <th>1</th>\n",
              "      <td>1477</td>\n",
              "      <td>1</td>\n",
              "      <td>2015-04-25 00:00:02</td>\n",
              "      <td>2187370.0</td>\n",
              "      <td>0.0</td>\n",
              "      <td>None</td>\n",
              "      <td>334</td>\n",
              "      <td>22</td>\n",
              "    </tr>\n",
              "    <tr>\n",
              "      <th>2</th>\n",
              "      <td>68959</td>\n",
              "      <td>2</td>\n",
              "      <td>2015-04-25 00:00:02</td>\n",
              "      <td>2089629.0</td>\n",
              "      <td>1.0</td>\n",
              "      <td>None</td>\n",
              "      <td>497</td>\n",
              "      <td>60</td>\n",
              "    </tr>\n",
              "    <tr>\n",
              "      <th>3</th>\n",
              "      <td>58818</td>\n",
              "      <td>3</td>\n",
              "      <td>2015-04-25 00:00:03</td>\n",
              "      <td>63549.0</td>\n",
              "      <td>1.0</td>\n",
              "      <td>sony playstation 4</td>\n",
              "      <td>375</td>\n",
              "      <td>0</td>\n",
              "    </tr>\n",
              "    <tr>\n",
              "      <th>4</th>\n",
              "      <td>30136</td>\n",
              "      <td>4</td>\n",
              "      <td>2015-04-25 00:00:04</td>\n",
              "      <td>1727717.0</td>\n",
              "      <td>0.0</td>\n",
              "      <td>None</td>\n",
              "      <td>334</td>\n",
              "      <td>38</td>\n",
              "    </tr>\n",
              "    <tr>\n",
              "      <th>...</th>\n",
              "      <td>...</td>\n",
              "      <td>...</td>\n",
              "      <td>...</td>\n",
              "      <td>...</td>\n",
              "      <td>...</td>\n",
              "      <td>...</td>\n",
              "      <td>...</td>\n",
              "      <td>...</td>\n",
              "    </tr>\n",
              "    <tr>\n",
              "      <th>1987151</th>\n",
              "      <td>87797</td>\n",
              "      <td>1987151</td>\n",
              "      <td>2015-05-13 23:59:51</td>\n",
              "      <td>1065752.0</td>\n",
              "      <td>1.0</td>\n",
              "      <td>None</td>\n",
              "      <td>334</td>\n",
              "      <td>60</td>\n",
              "    </tr>\n",
              "    <tr>\n",
              "      <th>1987152</th>\n",
              "      <td>66281</td>\n",
              "      <td>1987152</td>\n",
              "      <td>2015-05-13 23:59:51</td>\n",
              "      <td>2209435.0</td>\n",
              "      <td>0.0</td>\n",
              "      <td>imac</td>\n",
              "      <td>497</td>\n",
              "      <td>17</td>\n",
              "    </tr>\n",
              "    <tr>\n",
              "      <th>1987153</th>\n",
              "      <td>97377</td>\n",
              "      <td>1987153</td>\n",
              "      <td>2015-05-13 23:59:55</td>\n",
              "      <td>1848828.0</td>\n",
              "      <td>0.0</td>\n",
              "      <td>None</td>\n",
              "      <td>190</td>\n",
              "      <td>34</td>\n",
              "    </tr>\n",
              "    <tr>\n",
              "      <th>1987154</th>\n",
              "      <td>78797</td>\n",
              "      <td>1987154</td>\n",
              "      <td>2015-05-13 23:59:58</td>\n",
              "      <td>684886.0</td>\n",
              "      <td>1.0</td>\n",
              "      <td>None</td>\n",
              "      <td>1</td>\n",
              "      <td>26</td>\n",
              "    </tr>\n",
              "    <tr>\n",
              "      <th>1987155</th>\n",
              "      <td>10502</td>\n",
              "      <td>1987155</td>\n",
              "      <td>2015-05-13 23:59:59</td>\n",
              "      <td>2103041.0</td>\n",
              "      <td>0.0</td>\n",
              "      <td>None</td>\n",
              "      <td>497</td>\n",
              "      <td>35</td>\n",
              "    </tr>\n",
              "  </tbody>\n",
              "</table>\n",
              "<p>1987156 rows × 8 columns</p>\n",
              "</div>\n",
              "    <div class=\"colab-df-buttons\">\n",
              "\n",
              "  <div class=\"colab-df-container\">\n",
              "    <button class=\"colab-df-convert\" onclick=\"convertToInteractive('df-a0e410e4-f71a-44e0-be34-5e6dbc7120e8')\"\n",
              "            title=\"Convert this dataframe to an interactive table.\"\n",
              "            style=\"display:none;\">\n",
              "\n",
              "  <svg xmlns=\"http://www.w3.org/2000/svg\" height=\"24px\" viewBox=\"0 -960 960 960\">\n",
              "    <path d=\"M120-120v-720h720v720H120Zm60-500h600v-160H180v160Zm220 220h160v-160H400v160Zm0 220h160v-160H400v160ZM180-400h160v-160H180v160Zm440 0h160v-160H620v160ZM180-180h160v-160H180v160Zm440 0h160v-160H620v160Z\"/>\n",
              "  </svg>\n",
              "    </button>\n",
              "\n",
              "  <style>\n",
              "    .colab-df-container {\n",
              "      display:flex;\n",
              "      gap: 12px;\n",
              "    }\n",
              "\n",
              "    .colab-df-convert {\n",
              "      background-color: #E8F0FE;\n",
              "      border: none;\n",
              "      border-radius: 50%;\n",
              "      cursor: pointer;\n",
              "      display: none;\n",
              "      fill: #1967D2;\n",
              "      height: 32px;\n",
              "      padding: 0 0 0 0;\n",
              "      width: 32px;\n",
              "    }\n",
              "\n",
              "    .colab-df-convert:hover {\n",
              "      background-color: #E2EBFA;\n",
              "      box-shadow: 0px 1px 2px rgba(60, 64, 67, 0.3), 0px 1px 3px 1px rgba(60, 64, 67, 0.15);\n",
              "      fill: #174EA6;\n",
              "    }\n",
              "\n",
              "    .colab-df-buttons div {\n",
              "      margin-bottom: 4px;\n",
              "    }\n",
              "\n",
              "    [theme=dark] .colab-df-convert {\n",
              "      background-color: #3B4455;\n",
              "      fill: #D2E3FC;\n",
              "    }\n",
              "\n",
              "    [theme=dark] .colab-df-convert:hover {\n",
              "      background-color: #434B5C;\n",
              "      box-shadow: 0px 1px 3px 1px rgba(0, 0, 0, 0.15);\n",
              "      filter: drop-shadow(0px 1px 2px rgba(0, 0, 0, 0.3));\n",
              "      fill: #FFFFFF;\n",
              "    }\n",
              "  </style>\n",
              "\n",
              "    <script>\n",
              "      const buttonEl =\n",
              "        document.querySelector('#df-a0e410e4-f71a-44e0-be34-5e6dbc7120e8 button.colab-df-convert');\n",
              "      buttonEl.style.display =\n",
              "        google.colab.kernel.accessAllowed ? 'block' : 'none';\n",
              "\n",
              "      async function convertToInteractive(key) {\n",
              "        const element = document.querySelector('#df-a0e410e4-f71a-44e0-be34-5e6dbc7120e8');\n",
              "        const dataTable =\n",
              "          await google.colab.kernel.invokeFunction('convertToInteractive',\n",
              "                                                    [key], {});\n",
              "        if (!dataTable) return;\n",
              "\n",
              "        const docLinkHtml = 'Like what you see? Visit the ' +\n",
              "          '<a target=\"_blank\" href=https://colab.research.google.com/notebooks/data_table.ipynb>data table notebook</a>'\n",
              "          + ' to learn more about interactive tables.';\n",
              "        element.innerHTML = '';\n",
              "        dataTable['output_type'] = 'display_data';\n",
              "        await google.colab.output.renderOutput(dataTable, element);\n",
              "        const docLink = document.createElement('div');\n",
              "        docLink.innerHTML = docLinkHtml;\n",
              "        element.appendChild(docLink);\n",
              "      }\n",
              "    </script>\n",
              "  </div>\n",
              "\n",
              "\n",
              "<div id=\"df-26244aea-3c70-4a8a-b3df-561bbefae4c2\">\n",
              "  <button class=\"colab-df-quickchart\" onclick=\"quickchart('df-26244aea-3c70-4a8a-b3df-561bbefae4c2')\"\n",
              "            title=\"Suggest charts\"\n",
              "            style=\"display:none;\">\n",
              "\n",
              "<svg xmlns=\"http://www.w3.org/2000/svg\" height=\"24px\"viewBox=\"0 0 24 24\"\n",
              "     width=\"24px\">\n",
              "    <g>\n",
              "        <path d=\"M19 3H5c-1.1 0-2 .9-2 2v14c0 1.1.9 2 2 2h14c1.1 0 2-.9 2-2V5c0-1.1-.9-2-2-2zM9 17H7v-7h2v7zm4 0h-2V7h2v10zm4 0h-2v-4h2v4z\"/>\n",
              "    </g>\n",
              "</svg>\n",
              "  </button>\n",
              "\n",
              "<style>\n",
              "  .colab-df-quickchart {\n",
              "      --bg-color: #E8F0FE;\n",
              "      --fill-color: #1967D2;\n",
              "      --hover-bg-color: #E2EBFA;\n",
              "      --hover-fill-color: #174EA6;\n",
              "      --disabled-fill-color: #AAA;\n",
              "      --disabled-bg-color: #DDD;\n",
              "  }\n",
              "\n",
              "  [theme=dark] .colab-df-quickchart {\n",
              "      --bg-color: #3B4455;\n",
              "      --fill-color: #D2E3FC;\n",
              "      --hover-bg-color: #434B5C;\n",
              "      --hover-fill-color: #FFFFFF;\n",
              "      --disabled-bg-color: #3B4455;\n",
              "      --disabled-fill-color: #666;\n",
              "  }\n",
              "\n",
              "  .colab-df-quickchart {\n",
              "    background-color: var(--bg-color);\n",
              "    border: none;\n",
              "    border-radius: 50%;\n",
              "    cursor: pointer;\n",
              "    display: none;\n",
              "    fill: var(--fill-color);\n",
              "    height: 32px;\n",
              "    padding: 0;\n",
              "    width: 32px;\n",
              "  }\n",
              "\n",
              "  .colab-df-quickchart:hover {\n",
              "    background-color: var(--hover-bg-color);\n",
              "    box-shadow: 0 1px 2px rgba(60, 64, 67, 0.3), 0 1px 3px 1px rgba(60, 64, 67, 0.15);\n",
              "    fill: var(--button-hover-fill-color);\n",
              "  }\n",
              "\n",
              "  .colab-df-quickchart-complete:disabled,\n",
              "  .colab-df-quickchart-complete:disabled:hover {\n",
              "    background-color: var(--disabled-bg-color);\n",
              "    fill: var(--disabled-fill-color);\n",
              "    box-shadow: none;\n",
              "  }\n",
              "\n",
              "  .colab-df-spinner {\n",
              "    border: 2px solid var(--fill-color);\n",
              "    border-color: transparent;\n",
              "    border-bottom-color: var(--fill-color);\n",
              "    animation:\n",
              "      spin 1s steps(1) infinite;\n",
              "  }\n",
              "\n",
              "  @keyframes spin {\n",
              "    0% {\n",
              "      border-color: transparent;\n",
              "      border-bottom-color: var(--fill-color);\n",
              "      border-left-color: var(--fill-color);\n",
              "    }\n",
              "    20% {\n",
              "      border-color: transparent;\n",
              "      border-left-color: var(--fill-color);\n",
              "      border-top-color: var(--fill-color);\n",
              "    }\n",
              "    30% {\n",
              "      border-color: transparent;\n",
              "      border-left-color: var(--fill-color);\n",
              "      border-top-color: var(--fill-color);\n",
              "      border-right-color: var(--fill-color);\n",
              "    }\n",
              "    40% {\n",
              "      border-color: transparent;\n",
              "      border-right-color: var(--fill-color);\n",
              "      border-top-color: var(--fill-color);\n",
              "    }\n",
              "    60% {\n",
              "      border-color: transparent;\n",
              "      border-right-color: var(--fill-color);\n",
              "    }\n",
              "    80% {\n",
              "      border-color: transparent;\n",
              "      border-right-color: var(--fill-color);\n",
              "      border-bottom-color: var(--fill-color);\n",
              "    }\n",
              "    90% {\n",
              "      border-color: transparent;\n",
              "      border-bottom-color: var(--fill-color);\n",
              "    }\n",
              "  }\n",
              "</style>\n",
              "\n",
              "  <script>\n",
              "    async function quickchart(key) {\n",
              "      const quickchartButtonEl =\n",
              "        document.querySelector('#' + key + ' button');\n",
              "      quickchartButtonEl.disabled = true;  // To prevent multiple clicks.\n",
              "      quickchartButtonEl.classList.add('colab-df-spinner');\n",
              "      try {\n",
              "        const charts = await google.colab.kernel.invokeFunction(\n",
              "            'suggestCharts', [key], {});\n",
              "      } catch (error) {\n",
              "        console.error('Error during call to suggestCharts:', error);\n",
              "      }\n",
              "      quickchartButtonEl.classList.remove('colab-df-spinner');\n",
              "      quickchartButtonEl.classList.add('colab-df-quickchart-complete');\n",
              "    }\n",
              "    (() => {\n",
              "      let quickchartButtonEl =\n",
              "        document.querySelector('#df-26244aea-3c70-4a8a-b3df-561bbefae4c2 button');\n",
              "      quickchartButtonEl.style.display =\n",
              "        google.colab.kernel.accessAllowed ? 'block' : 'none';\n",
              "    })();\n",
              "  </script>\n",
              "</div>\n",
              "\n",
              "    </div>\n",
              "  </div>\n"
            ],
            "application/vnd.google.colaboratory.intrinsic+json": {
              "type": "dataframe"
            }
          },
          "metadata": {},
          "execution_count": 21
        }
      ]
    },
    {
      "cell_type": "code",
      "source": [
        "from relbench.tasks import get_task_names, get_task"
      ],
      "metadata": {
        "id": "aINHoNj-CW4g"
      },
      "execution_count": 22,
      "outputs": []
    },
    {
      "cell_type": "code",
      "source": [
        "get_task_names(\"rel-avito\")"
      ],
      "metadata": {
        "colab": {
          "base_uri": "https://localhost:8080/"
        },
        "id": "VYRCGyYcCw8-",
        "outputId": "00b333f7-0613-4e22-b0bc-3b74d67293fb"
      },
      "execution_count": 23,
      "outputs": [
        {
          "output_type": "execute_result",
          "data": {
            "text/plain": [
              "['ad-ctr', 'user-visits', 'user-clicks', 'user-ad-visit']"
            ]
          },
          "metadata": {},
          "execution_count": 23
        }
      ]
    },
    {
      "cell_type": "code",
      "source": [
        "task = get_task(\"rel-avito\", \"ad-ctr\", download=True)"
      ],
      "metadata": {
        "colab": {
          "base_uri": "https://localhost:8080/"
        },
        "id": "IoJT8cy5C1gA",
        "outputId": "68a26809-99c7-4ab6-f805-8c8aab74a676"
      },
      "execution_count": 24,
      "outputs": [
        {
          "output_type": "stream",
          "name": "stderr",
          "text": [
            "Downloading file 'rel-avito/tasks/ad-ctr.zip' from 'https://relbench.stanford.edu/download/rel-avito/tasks/ad-ctr.zip' to '/root/.cache/relbench'.\n",
            "100%|█████████████████████████████████████| 74.2k/74.2k [00:00<00:00, 32.4MB/s]\n",
            "Unzipping contents of '/root/.cache/relbench/rel-avito/tasks/ad-ctr.zip' to '/root/.cache/relbench/rel-avito/tasks/.'\n"
          ]
        }
      ]
    },
    {
      "cell_type": "code",
      "source": [],
      "metadata": {
        "id": "QQUhw64SE-qP"
      },
      "execution_count": null,
      "outputs": []
    }
  ]
}